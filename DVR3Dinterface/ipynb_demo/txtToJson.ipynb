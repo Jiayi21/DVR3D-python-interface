{
 "cells": [
  {
   "cell_type": "code",
   "execution_count": 25,
   "metadata": {},
   "outputs": [],
   "source": [
    "from pathlib import Path\n",
    "def txtToJson(filepath):\n",
    "    pathin = Path(filepath)\n",
    "    pathout = Path(filepath+\".json\")\n",
    "    with open(pathin,\"r\",encoding=\"utf-8\") as fin:\n",
    "        with open(pathout,\"w+\",encoding=\"utf-8\",newline=\"\") as fout:\n",
    "            fout.write(\"{\\n\")\n",
    "            line = fin.readline()\n",
    "            while(line != \"\"):\n",
    "                try:   \n",
    "                    lineVec = line.split(\":\")\n",
    "                    fout.write(\"\\\"{}\\\":{}\".format(lineVec[0],lineVec[1]))\n",
    "                    line = fin.readline()\n",
    "                    if (line != \"\"): fout.write(\",\")\n",
    "                except Exception as e:\n",
    "                    print(\"Failed reading input, check file format: {}\".format(line))\n",
    "                    raise\n",
    "            fout.write(\"}\")"
   ]
  },
  {
   "cell_type": "code",
   "execution_count": 29,
   "metadata": {},
   "outputs": [],
   "source": [
    "txtToJson(\"../input/example_rot.txt\")"
   ]
  },
  {
   "cell_type": "code",
   "execution_count": null,
   "metadata": {},
   "outputs": [],
   "source": []
  }
 ],
 "metadata": {
  "interpreter": {
   "hash": "98b47d074a431d17181c321ad94f2955c6daf2894d339213ce58369930ebc673"
  },
  "kernelspec": {
   "display_name": "Python 3.8.13 ('fproject')",
   "language": "python",
   "name": "python3"
  },
  "language_info": {
   "codemirror_mode": {
    "name": "ipython",
    "version": 3
   },
   "file_extension": ".py",
   "mimetype": "text/x-python",
   "name": "python",
   "nbconvert_exporter": "python",
   "pygments_lexer": "ipython3",
   "version": "3.8.13"
  },
  "orig_nbformat": 4
 },
 "nbformat": 4,
 "nbformat_minor": 2
}
