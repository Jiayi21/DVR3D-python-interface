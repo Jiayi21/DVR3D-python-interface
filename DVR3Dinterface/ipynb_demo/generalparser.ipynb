{
 "cells": [
  {
   "cell_type": "code",
   "execution_count": 5,
   "metadata": {},
   "outputs": [],
   "source": [
    "from fortranformat import FortranRecordWriter as ffW\n",
    "from pathlib import Path\n",
    "import json"
   ]
  },
  {
   "cell_type": "markdown",
   "metadata": {},
   "source": [
    "### Parser Class"
   ]
  },
  {
   "cell_type": "code",
   "execution_count": 6,
   "metadata": {},
   "outputs": [],
   "source": [
    "class GeneralParser:\n",
    "    config = {}\n",
    "\n",
    "    def __init__(self,config):\n",
    "        with open (Path(config)) as f:\n",
    "            self.config=json.load(f)\n",
    "\n",
    "    def __PrtToStr(self,name,bol):\n",
    "        if bol:\n",
    "            name += \"=.true., \"\n",
    "        else:\n",
    "            name += \"=.false., \"\n",
    "        return name\n",
    "    \n",
    "    # Parse and print the NAMELIST line\n",
    "    def __parPRT(self,configsub,data,filestream):\n",
    "        filestream.write(\" {} \".format(configsub[\"head\"]))\n",
    "        # Check keylist_A, all optional\n",
    "        for var in configsub[\"keylist_A\"]:\n",
    "            if var in data:\n",
    "                filestream.write(var.lower()+\"=\"+data[var]+\" \")\n",
    "        \n",
    "        # Check keylist_L, all optional\n",
    "        for var in configsub[\"keylist_L\"]:\n",
    "            if var in data:\n",
    "                filestream.write(self.__PrtToStr(var.lower(),data[var]))\n",
    "        \n",
    "        # Change Line, and write the \"/\" at the end of first line.\n",
    "        filestream.write(\" / \\n\")\n",
    "\n",
    "    # Parse the variable line\n",
    "    # All variable should have same type\n",
    "    def __parVAL(self,configsub,data,filestream):\n",
    "        countval = 0\n",
    "        writer = ffW(configsub[\"format\"])\n",
    "        for var in configsub[\"keylist\"]:\n",
    "            if var in data:\n",
    "                filestream.write(writer.write([data[var]]))\n",
    "                countval+=1\n",
    "            elif countval<configsub[\"minval\"]:\n",
    "                raise KeyError(\"Mandatory variable not provided: {}\".format(var))\n",
    "            else:\n",
    "                break\n",
    "\n",
    "        filestream.write(\"\\n\")\n",
    "\n",
    "    # Print title\n",
    "    def __parTITLE(self,configsub,data,filestream):\n",
    "        if len(data[\"TITLE\"]) > configsub[\"length\"]:\n",
    "            print(\"Warning: Title longer than config set length, will be capped\")\n",
    "        filestream.write(data[\"TITLE\"][:configsub[\"length\"]]+\"\\n\")\n",
    "\n",
    "    # Customised format\n",
    "    def __parCUS(self,configsub,data,filestream):\n",
    "        countval = 0\n",
    "        for var in configsub[\"keylist\"]:\n",
    "            if var in data:\n",
    "                writer = ffW(configsub[\"keylist\"][var])\n",
    "                filestream.write(writer.write([data[var]]))\n",
    "                countval+=1\n",
    "            elif countval<configsub[\"minval\"]:\n",
    "                raise KeyError(\"Mandatory variable not provided: {}\".format(var))\n",
    "            else:\n",
    "                break\n",
    "\n",
    "        filestream.write(\"\\n\")\n",
    "\n",
    "\n",
    "    def write(self,input,output):\n",
    "        with open (Path(output),\"w+\",encoding=\"utf-8\") as f:\n",
    "            for line in self.config:\n",
    "                try:\n",
    "                    if self.config[line][\"type\"] == \"PRT\":\n",
    "                        self.__parPRT(self.config[line],input,f)\n",
    "                    elif self.config[line][\"type\"] == \"VAL\":\n",
    "                        self.__parVAL(self.config[line],input,f)\n",
    "                    elif self.config[line][\"type\"] == \"TITLE\":\n",
    "                        self.__parTITLE(self.config[line],input,f)\n",
    "                    elif self.config[line][\"type\"] == \"CUS\":\n",
    "                        self.__parCUS(self.config[line],input,f)\n",
    "                    else:\n",
    "                        raise ValueError(\"Config type not found: {}\".format(line))\n",
    "                except Exception as e:\n",
    "                    print(\"Error parsing {}: {}\".format(line,e))\n",
    "                    raise\n",
    "        \n",
    "\n"
   ]
  },
  {
   "cell_type": "markdown",
   "metadata": {},
   "source": [
    "### Parser Testing"
   ]
  },
  {
   "cell_type": "code",
   "execution_count": 7,
   "metadata": {},
   "outputs": [],
   "source": [
    "rot_example={\n",
    "    \"TOLER\":\"1.0d-4\",\n",
    "    \"ZPFUN\":True,\n",
    "    \"ZTRAN\":True,\n",
    "    \"ZDCORE\": False,\n",
    "    \"NVIB\":40, \"NEVAL\":30,\"KMIN\":2,\"IBASS\":120,\"NEVAL2\":20,\n",
    "    \"TITLE\":\"HCN rovib J=2 e and f\",\n",
    "    \"EZERO\":3481.50552084\n",
    "}\n",
    "\n",
    "rot_example_missing={\n",
    "    \"TOLER\":\"1.0d-4\",\n",
    "    \"ZPFUN\":True,\n",
    "    \"ZTRAN\":True,\n",
    "    \"ZDCORE\": False,\n",
    "            \"NEVAL\":30,\"KMIN\":2,\"IBASS\":120,\"NEVAL2\":20,\n",
    "    \"TITLE\":\"HCN rovib J=2 e and f\",\n",
    "    \"EZERO\":3481.50552084\n",
    "}"
   ]
  },
  {
   "cell_type": "code",
   "execution_count": 8,
   "metadata": {},
   "outputs": [],
   "source": [
    "testparser = GeneralParser(\"../configs/example_config.json\")\n",
    "testparser.write(rot_example,\"../output/example.job\")"
   ]
  },
  {
   "cell_type": "markdown",
   "metadata": {},
   "source": [
    "---"
   ]
  },
  {
   "cell_type": "code",
   "execution_count": 20,
   "metadata": {},
   "outputs": [],
   "source": [
    "dvrparalist={\n",
    "    \"ZROT\":True,\"ZTRAN\":True,\"ZLIN\":True,\"ZTHETA\":False,\"ZR2R1\":False,\"ZP1D\":False,\"ZP2D\":False,\"ZEMBED\":False,\"ZPFUN\":True,\n",
    "    \"NCOORD\":1,\n",
    "    \"NPNT2\":30,\"JROT\":0,\"NEVAL\":40,\"NALF\":45,\"MAX2D\":1000,\"MAX3D\":1500,\"IDIA\":1,\"KMIN\":2,\"NPNT1\":16,\n",
    "    \"TITLE\":\"HCN: J=2 calculation\",\n",
    "    \"XMASS(1)\":1.007825035,\"XMASS(2)\":12.0,\"XMASS(3)\":14.003074002,\n",
    "    \"XMASSR(1)\":1.007825035,\"XMASSR(2)\":12.0,\"XMASSR(3)\":14.003074002,\n",
    "    \"EMAX1\":45000,\n",
    "    \"RE1\":2.3,\"DISS1\":29.0,\"WE1\":0.0105,\n",
    "    \"RE2\":3.2,\"DISS2\":5.0,\"WE2\":0.004\n",
    "}"
   ]
  },
  {
   "cell_type": "code",
   "execution_count": 22,
   "metadata": {},
   "outputs": [],
   "source": [
    "testparser = GeneralParser(\"configs/dvr3djz.json\")\n",
    "testparser.write(dvrparalist,\"output/dvr_t.job\")"
   ]
  },
  {
   "cell_type": "code",
   "execution_count": null,
   "metadata": {},
   "outputs": [],
   "source": []
  }
 ],
 "metadata": {
  "interpreter": {
   "hash": "98b47d074a431d17181c321ad94f2955c6daf2894d339213ce58369930ebc673"
  },
  "kernelspec": {
   "display_name": "Python 3.8.13 ('fproject')",
   "language": "python",
   "name": "python3"
  },
  "language_info": {
   "codemirror_mode": {
    "name": "ipython",
    "version": 3
   },
   "file_extension": ".py",
   "mimetype": "text/x-python",
   "name": "python",
   "nbconvert_exporter": "python",
   "pygments_lexer": "ipython3",
   "version": "3.8.13"
  },
  "orig_nbformat": 4
 },
 "nbformat": 4,
 "nbformat_minor": 2
}
