{
 "cells": [
  {
   "cell_type": "code",
   "execution_count": 65,
   "metadata": {},
   "outputs": [],
   "source": [
    "import json\n",
    "from pathlib import Path\n",
    "from source_p import dvr3dparser as dp"
   ]
  },
  {
   "cell_type": "code",
   "execution_count": 66,
   "metadata": {},
   "outputs": [],
   "source": [
    "class CombinedInputInterface:\n",
    "    # Record the commandline to run\n",
    "    commands = []\n",
    "\n",
    "    def __init__(self,inputpath):\n",
    "        # Open the file read every line into a vector\n",
    "        lines = open(Path(inputpath)).read().splitlines()\n",
    "\n",
    "        # Hold the task number for filenames.\n",
    "        taskcounter = 0\n",
    "        linecounter = 0\n",
    "\n",
    "        while (linecounter < len(lines)):\n",
    "            line = lines[linecounter]\n",
    "\n",
    "            # Ignore empty line\n",
    "            if line=='\\n':\n",
    "                linecounter+=1\n",
    "                continue\n",
    "            # Check if is a new Fortran block\n",
    "            elif line[2:9]==\"Fortran\":\n",
    "                taskcounter+=1\n",
    "                sepLine = line[10:].split(\" \")\n",
    "\n",
    "                # Optional argument:\n",
    "                outname = \"output{}.result\".format(taskcounter)\n",
    "                try:\n",
    "                    # Check for optional argument\n",
    "                    if len(sepLine)>2:\n",
    "                        for argstr in sepLine[2:]:\n",
    "                            [arg, val] = argstr.split(\"=\")\n",
    "                            if arg==\"outname\": outname = val\n",
    "                except Exception as e:\n",
    "                    print(\"Error reading block argument: {}\".format(line))\n",
    "                    raise\n",
    "                    \n",
    "                # Copy every line in this block to a temp file, untile next line start with &&\n",
    "                with open (Path(\"input/temp/temptxt{}.txt\".format(taskcounter)),\"w+\",encoding=\"utf-8\") as f:\n",
    "                    while (linecounter+1 < len(lines) and lines[linecounter+1][:2]!=\"&&\"):\n",
    "                        linecounter+=1\n",
    "                        f.write(lines[linecounter]+\"\\n\")\n",
    "\n",
    "                \n",
    "                # convert to json\n",
    "                jsonpath = dp.txtToJson(\"input/temp/temptxt{}.txt\".format(taskcounter))\n",
    "\n",
    "                # convert to job\n",
    "                with open (jsonpath) as f:\n",
    "                    jsonobj = json.load(f)\n",
    "                dvrparser = dp.GeneralParser(\"configs/{}.json\".format(sepLine[0]))\n",
    "                dvrparser.write(jsonobj, \"input/temp/tempjob{}.job\".format(taskcounter))\n",
    "\n",
    "                # add a command to this object's command list\n",
    "                self.commands.append(\"{} <input/temp/tempjob{}.job> {}\".format(sepLine[1],taskcounter,outname))\n",
    "\n",
    "\n",
    "            # If not &&Fortran, then it is a command to directly run\n",
    "            else:\n",
    "                # The split... is used to prevent an empty line before command block generating empty cmd in self.commands\n",
    "                self.commands.append(line[2:].split('\\n')[0])\n",
    "            \n",
    "            # Next line\n",
    "            linecounter+=1\n",
    "    \n",
    "    def printCommands(self):\n",
    "        for cmd in self.commands:\n",
    "            print(cmd)\n",
    "\n",
    "    "
   ]
  },
  {
   "cell_type": "code",
   "execution_count": 67,
   "metadata": {},
   "outputs": [],
   "source": [
    "tt = CombinedInputInterface(\"input/combined.txt\")"
   ]
  },
  {
   "cell_type": "code",
   "execution_count": 68,
   "metadata": {},
   "outputs": [
    {
     "name": "stdout",
     "output_type": "stream",
     "text": [
      "./dvr.out <input/temp/tempjob1.job> output1_manual.result\n",
      "rot.out <input/temp/tempjob2.job> output2.result\n",
      "cp fort.8 fort.11\n",
      "cp fort.9 fort.12\n",
      "\n",
      "./dip.out <input/temp/tempjob3.job> output3.result\n",
      "./spec.out <input/temp/tempjob4.job> output4.result\n"
     ]
    }
   ],
   "source": [
    "tt.printCommands()"
   ]
  },
  {
   "cell_type": "code",
   "execution_count": 69,
   "metadata": {},
   "outputs": [
    {
     "data": {
      "text/plain": [
       "['./dvr.out <input/temp/tempjob1.job> output1_manual.result',\n",
       " 'rot.out <input/temp/tempjob2.job> output2.result',\n",
       " 'cp fort.8 fort.11',\n",
       " 'cp fort.9 fort.12',\n",
       " '',\n",
       " './dip.out <input/temp/tempjob3.job> output3.result',\n",
       " './spec.out <input/temp/tempjob4.job> output4.result']"
      ]
     },
     "execution_count": 69,
     "metadata": {},
     "output_type": "execute_result"
    }
   ],
   "source": [
    "tt.commands"
   ]
  },
  {
   "cell_type": "code",
   "execution_count": 70,
   "metadata": {},
   "outputs": [],
   "source": [
    "test = \"test\\n\\n\".split('\\n')"
   ]
  },
  {
   "cell_type": "code",
   "execution_count": 71,
   "metadata": {},
   "outputs": [
    {
     "data": {
      "text/plain": [
       "['test', '', '']"
      ]
     },
     "execution_count": 71,
     "metadata": {},
     "output_type": "execute_result"
    }
   ],
   "source": [
    "test"
   ]
  },
  {
   "cell_type": "code",
   "execution_count": null,
   "metadata": {},
   "outputs": [],
   "source": []
  }
 ],
 "metadata": {
  "kernelspec": {
   "display_name": "Python 3.8.13 ('fproject')",
   "language": "python",
   "name": "python3"
  },
  "language_info": {
   "codemirror_mode": {
    "name": "ipython",
    "version": 3
   },
   "file_extension": ".py",
   "mimetype": "text/x-python",
   "name": "python",
   "nbconvert_exporter": "python",
   "pygments_lexer": "ipython3",
   "version": "3.8.13"
  },
  "orig_nbformat": 4,
  "vscode": {
   "interpreter": {
    "hash": "98b47d074a431d17181c321ad94f2955c6daf2894d339213ce58369930ebc673"
   }
  }
 },
 "nbformat": 4,
 "nbformat_minor": 2
}
