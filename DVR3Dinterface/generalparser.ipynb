{
 "cells": [
  {
   "cell_type": "code",
   "execution_count": 2,
   "metadata": {},
   "outputs": [],
   "source": [
    "import fortranformat as ff\n",
    "from pathlib import Path\n",
    "import json"
   ]
  },
  {
   "cell_type": "markdown",
   "metadata": {},
   "source": [
    "### Example json config"
   ]
  },
  {
   "cell_type": "code",
   "execution_count": 3,
   "metadata": {},
   "outputs": [],
   "source": [
    "# Example contains some parameters of ROTLEV3B\n",
    "example_config = {\n",
    "    \"LINE1\":{\n",
    "        \"type\":\"PRT\",\n",
    "        \"keylist_A\":[\"TOLER\"],\n",
    "        \"keylist_L\":[\"ZPFUN\",\"ZTRAN\",\"ZDCORE\",\"ZDIAG\"]\n",
    "    },\n",
    "    \"LINE2\":{\n",
    "        \"type\":\"VAL\",\n",
    "        \"format\":\"I5\",\n",
    "        \"minval\":1,\n",
    "        \"keylist\":[\"NVIB\",\"NEVAL\",\"KMIN\",\"IBASS\",\"NEVAL2\"]\n",
    "    },\n",
    "    \"LINE3\":{\n",
    "        \"type\":\"TITLE\",\n",
    "        \"length\":72\n",
    "    },\n",
    "    \"LINE4\":{\n",
    "        \"type\":\"CUS\",\n",
    "        \"minval\":1,\n",
    "        \"keylist\":{\n",
    "            \"EZERO\":\"F13.8\"\n",
    "        }\n",
    "    }\n",
    "}"
   ]
  },
  {
   "cell_type": "code",
   "execution_count": 4,
   "metadata": {},
   "outputs": [],
   "source": [
    "with open('config/example_config.json',\"w+\") as f:\n",
    "    json.dump(example_config,f,indent=2)"
   ]
  },
  {
   "cell_type": "markdown",
   "metadata": {},
   "source": [
    "### Parser Class"
   ]
  },
  {
   "cell_type": "code",
   "execution_count": 5,
   "metadata": {},
   "outputs": [],
   "source": [
    "class GeneralParser:\n",
    "    config = {}\n",
    "\n",
    "    def __init__(self,config):\n",
    "        with open (Path(config)) as f:\n",
    "            self.config=json.load(f)\n",
    "\n",
    "    def __PrtToStr(self,name,bol):\n",
    "        if bol:\n",
    "            name += \"=.true., \"\n",
    "        else:\n",
    "            name += \"=.false., \"\n",
    "        return name\n",
    "    \n",
    "    # Parse and print the NAMELIST line\n",
    "    def __parPRT(self,configsub,data,filestream):\n",
    "        filestream.write(\" &PRT \")\n",
    "        # Check keylist_A, all optional\n",
    "        for var in configsub[\"keylist_A\"]:\n",
    "            if var in data:\n",
    "                filestream.write(var.lower()+\"=\"+data[var]+\" \")\n",
    "        \n",
    "        # Check keylist_L, all optional\n",
    "        for var in configsub[\"keylist_L\"]:\n",
    "            if var in data:\n",
    "                filestream.write(self.__PrtToStr(var.lower(),data[var]))\n",
    "        \n",
    "        # Change Line, and write the \"/\" at the end of first line.\n",
    "        filestream.write(\" / \\n\")\n",
    "\n",
    "    # Parse the variable line\n",
    "    # All variable should have same type\n",
    "    def __parVAL(self,configsub,data,filestream):\n",
    "        countval = 0\n",
    "        writer = ff.FortranRecordWriter(configsub[\"format\"])\n",
    "        for var in configsub[\"keylist\"]:\n",
    "            if var in data:\n",
    "                filestream.write(writer.write([data[var]]))\n",
    "                countval+=1\n",
    "            elif countval<configsub[\"minval\"]:\n",
    "                raise KeyError(\"Mandatory variable not provided: {}\".format(var))\n",
    "            else:\n",
    "                break\n",
    "\n",
    "        filestream.write(\"\\n\")\n",
    "\n",
    "    # Print title\n",
    "    def __parTITLE(self,configsub,data,filestream):\n",
    "        if len(data[\"TITLE\"]) > configsub[\"length\"]:\n",
    "            print(\"Warning: Title longer than config set length, will be capped\")\n",
    "        filestream.write(data[\"TITLE\"][:configsub[\"length\"]]+\"\\n\")\n",
    "\n",
    "    # Customised format\n",
    "    def __parCUS(self,configsub,data,filestream):\n",
    "        countval = 0\n",
    "        for var in configsub[\"keylist\"]:\n",
    "            if var in data:\n",
    "                writer = ff.FortranRecordWriter(configsub[\"keylist\"][var])\n",
    "                filestream.write(writer.write([data[var]]))\n",
    "                countval+=1\n",
    "            elif countval<configsub[\"minval\"]:\n",
    "                raise KeyError(\"Mandatory variable not provided: {}\".format(var))\n",
    "            else:\n",
    "                break\n",
    "\n",
    "        filestream.write(\"\\n\")\n",
    "\n",
    "\n",
    "    def write(self,input,output):\n",
    "        with open (Path(output),\"w+\",encoding=\"utf-8\") as f:\n",
    "            for line in self.config:\n",
    "                try:\n",
    "                    if self.config[line][\"type\"] == \"PRT\":\n",
    "                        self.__parPRT(self.config[line],input,f)\n",
    "                    elif self.config[line][\"type\"] == \"VAL\":\n",
    "                        self.__parVAL(self.config[line],input,f)\n",
    "                    elif self.config[line][\"type\"] == \"TITLE\":\n",
    "                        self.__parTITLE(self.config[line],input,f)\n",
    "                    elif self.config[line][\"type\"] == \"CUS\":\n",
    "                        self.__parCUS(self.config[line],input,f)\n",
    "                    else:\n",
    "                        raise ValueError(\"Config type not found: {}\".format(line))\n",
    "                except Exception as e:\n",
    "                    print(\"Error parsing {}: {}\".format(line,e))\n",
    "                    raise\n",
    "        \n",
    "\n"
   ]
  },
  {
   "cell_type": "markdown",
   "metadata": {},
   "source": [
    "### Parser Testing"
   ]
  },
  {
   "cell_type": "code",
   "execution_count": 6,
   "metadata": {},
   "outputs": [],
   "source": [
    "rot_example={\n",
    "    \"TOLER\":\"1.0d-4\",\n",
    "    \"ZPFUN\":True,\n",
    "    \"ZTRAN\":True,\n",
    "    \"ZDCORE\": False,\n",
    "    \"NVIB\":40, \"NEVAL\":30,\"KMIN\":2,\"IBASS\":120,\"NEVAL2\":20,\n",
    "    \"TITLE\":\"HCN rovib J=2 e and f\",\n",
    "    \"EZERO\":3481.50552084\n",
    "}\n",
    "\n",
    "rot_example_missing={\n",
    "    \"TOLER\":\"1.0d-4\",\n",
    "    \"ZPFUN\":True,\n",
    "    \"ZTRAN\":True,\n",
    "    \"ZDCORE\": False,\n",
    "            \"NEVAL\":30,\"KMIN\":2,\"IBASS\":120,\"NEVAL2\":20,\n",
    "    \"TITLE\":\"HCN rovib J=2 e and f\",\n",
    "    \"EZERO\":3481.50552084\n",
    "}"
   ]
  },
  {
   "cell_type": "code",
   "execution_count": 8,
   "metadata": {},
   "outputs": [
    {
     "ename": "JSONDecodeError",
     "evalue": "Expecting value: line 3 column 13 (char 36)",
     "output_type": "error",
     "traceback": [
      "\u001b[1;31m---------------------------------------------------------------------------\u001b[0m",
      "\u001b[1;31mJSONDecodeError\u001b[0m                           Traceback (most recent call last)",
      "\u001b[1;32mc:\\MyFile\\Project\\code\\Formatting\\generalparser.ipynb Cell 9'\u001b[0m in \u001b[0;36m<cell line: 1>\u001b[1;34m()\u001b[0m\n\u001b[0;32m      <a href='vscode-notebook-cell:/c%3A/MyFile/Project/code/Formatting/generalparser.ipynb#ch0000013?line=0'>1</a>\u001b[0m \u001b[39mwith\u001b[39;00m \u001b[39mopen\u001b[39m (\u001b[39m\"\u001b[39m\u001b[39mexampleuser.json\u001b[39m\u001b[39m\"\u001b[39m) \u001b[39mas\u001b[39;00m f:\n\u001b[1;32m----> <a href='vscode-notebook-cell:/c%3A/MyFile/Project/code/Formatting/generalparser.ipynb#ch0000013?line=1'>2</a>\u001b[0m     exampleuser \u001b[39m=\u001b[39m json\u001b[39m.\u001b[39;49mload(f)\n",
      "File \u001b[1;32mc:\\Users\\Jiayi\\anaconda3\\envs\\fproject\\lib\\json\\__init__.py:293\u001b[0m, in \u001b[0;36mload\u001b[1;34m(fp, cls, object_hook, parse_float, parse_int, parse_constant, object_pairs_hook, **kw)\u001b[0m\n\u001b[0;32m    <a href='file:///c%3A/Users/Jiayi/anaconda3/envs/fproject/lib/json/__init__.py?line=273'>274</a>\u001b[0m \u001b[39mdef\u001b[39;00m \u001b[39mload\u001b[39m(fp, \u001b[39m*\u001b[39m, \u001b[39mcls\u001b[39m\u001b[39m=\u001b[39m\u001b[39mNone\u001b[39;00m, object_hook\u001b[39m=\u001b[39m\u001b[39mNone\u001b[39;00m, parse_float\u001b[39m=\u001b[39m\u001b[39mNone\u001b[39;00m,\n\u001b[0;32m    <a href='file:///c%3A/Users/Jiayi/anaconda3/envs/fproject/lib/json/__init__.py?line=274'>275</a>\u001b[0m         parse_int\u001b[39m=\u001b[39m\u001b[39mNone\u001b[39;00m, parse_constant\u001b[39m=\u001b[39m\u001b[39mNone\u001b[39;00m, object_pairs_hook\u001b[39m=\u001b[39m\u001b[39mNone\u001b[39;00m, \u001b[39m*\u001b[39m\u001b[39m*\u001b[39mkw):\n\u001b[0;32m    <a href='file:///c%3A/Users/Jiayi/anaconda3/envs/fproject/lib/json/__init__.py?line=275'>276</a>\u001b[0m     \u001b[39m\"\"\"Deserialize ``fp`` (a ``.read()``-supporting file-like object containing\u001b[39;00m\n\u001b[0;32m    <a href='file:///c%3A/Users/Jiayi/anaconda3/envs/fproject/lib/json/__init__.py?line=276'>277</a>\u001b[0m \u001b[39m    a JSON document) to a Python object.\u001b[39;00m\n\u001b[0;32m    <a href='file:///c%3A/Users/Jiayi/anaconda3/envs/fproject/lib/json/__init__.py?line=277'>278</a>\u001b[0m \n\u001b[1;32m   (...)\u001b[0m\n\u001b[0;32m    <a href='file:///c%3A/Users/Jiayi/anaconda3/envs/fproject/lib/json/__init__.py?line=290'>291</a>\u001b[0m \u001b[39m    kwarg; otherwise ``JSONDecoder`` is used.\u001b[39;00m\n\u001b[0;32m    <a href='file:///c%3A/Users/Jiayi/anaconda3/envs/fproject/lib/json/__init__.py?line=291'>292</a>\u001b[0m \u001b[39m    \"\"\"\u001b[39;00m\n\u001b[1;32m--> <a href='file:///c%3A/Users/Jiayi/anaconda3/envs/fproject/lib/json/__init__.py?line=292'>293</a>\u001b[0m     \u001b[39mreturn\u001b[39;00m loads(fp\u001b[39m.\u001b[39;49mread(),\n\u001b[0;32m    <a href='file:///c%3A/Users/Jiayi/anaconda3/envs/fproject/lib/json/__init__.py?line=293'>294</a>\u001b[0m         \u001b[39mcls\u001b[39;49m\u001b[39m=\u001b[39;49m\u001b[39mcls\u001b[39;49m, object_hook\u001b[39m=\u001b[39;49mobject_hook,\n\u001b[0;32m    <a href='file:///c%3A/Users/Jiayi/anaconda3/envs/fproject/lib/json/__init__.py?line=294'>295</a>\u001b[0m         parse_float\u001b[39m=\u001b[39;49mparse_float, parse_int\u001b[39m=\u001b[39;49mparse_int,\n\u001b[0;32m    <a href='file:///c%3A/Users/Jiayi/anaconda3/envs/fproject/lib/json/__init__.py?line=295'>296</a>\u001b[0m         parse_constant\u001b[39m=\u001b[39;49mparse_constant, object_pairs_hook\u001b[39m=\u001b[39;49mobject_pairs_hook, \u001b[39m*\u001b[39;49m\u001b[39m*\u001b[39;49mkw)\n",
      "File \u001b[1;32mc:\\Users\\Jiayi\\anaconda3\\envs\\fproject\\lib\\json\\__init__.py:357\u001b[0m, in \u001b[0;36mloads\u001b[1;34m(s, cls, object_hook, parse_float, parse_int, parse_constant, object_pairs_hook, **kw)\u001b[0m\n\u001b[0;32m    <a href='file:///c%3A/Users/Jiayi/anaconda3/envs/fproject/lib/json/__init__.py?line=351'>352</a>\u001b[0m     \u001b[39mdel\u001b[39;00m kw[\u001b[39m'\u001b[39m\u001b[39mencoding\u001b[39m\u001b[39m'\u001b[39m]\n\u001b[0;32m    <a href='file:///c%3A/Users/Jiayi/anaconda3/envs/fproject/lib/json/__init__.py?line=353'>354</a>\u001b[0m \u001b[39mif\u001b[39;00m (\u001b[39mcls\u001b[39m \u001b[39mis\u001b[39;00m \u001b[39mNone\u001b[39;00m \u001b[39mand\u001b[39;00m object_hook \u001b[39mis\u001b[39;00m \u001b[39mNone\u001b[39;00m \u001b[39mand\u001b[39;00m\n\u001b[0;32m    <a href='file:///c%3A/Users/Jiayi/anaconda3/envs/fproject/lib/json/__init__.py?line=354'>355</a>\u001b[0m         parse_int \u001b[39mis\u001b[39;00m \u001b[39mNone\u001b[39;00m \u001b[39mand\u001b[39;00m parse_float \u001b[39mis\u001b[39;00m \u001b[39mNone\u001b[39;00m \u001b[39mand\u001b[39;00m\n\u001b[0;32m    <a href='file:///c%3A/Users/Jiayi/anaconda3/envs/fproject/lib/json/__init__.py?line=355'>356</a>\u001b[0m         parse_constant \u001b[39mis\u001b[39;00m \u001b[39mNone\u001b[39;00m \u001b[39mand\u001b[39;00m object_pairs_hook \u001b[39mis\u001b[39;00m \u001b[39mNone\u001b[39;00m \u001b[39mand\u001b[39;00m \u001b[39mnot\u001b[39;00m kw):\n\u001b[1;32m--> <a href='file:///c%3A/Users/Jiayi/anaconda3/envs/fproject/lib/json/__init__.py?line=356'>357</a>\u001b[0m     \u001b[39mreturn\u001b[39;00m _default_decoder\u001b[39m.\u001b[39;49mdecode(s)\n\u001b[0;32m    <a href='file:///c%3A/Users/Jiayi/anaconda3/envs/fproject/lib/json/__init__.py?line=357'>358</a>\u001b[0m \u001b[39mif\u001b[39;00m \u001b[39mcls\u001b[39m \u001b[39mis\u001b[39;00m \u001b[39mNone\u001b[39;00m:\n\u001b[0;32m    <a href='file:///c%3A/Users/Jiayi/anaconda3/envs/fproject/lib/json/__init__.py?line=358'>359</a>\u001b[0m     \u001b[39mcls\u001b[39m \u001b[39m=\u001b[39m JSONDecoder\n",
      "File \u001b[1;32mc:\\Users\\Jiayi\\anaconda3\\envs\\fproject\\lib\\json\\decoder.py:337\u001b[0m, in \u001b[0;36mJSONDecoder.decode\u001b[1;34m(self, s, _w)\u001b[0m\n\u001b[0;32m    <a href='file:///c%3A/Users/Jiayi/anaconda3/envs/fproject/lib/json/decoder.py?line=331'>332</a>\u001b[0m \u001b[39mdef\u001b[39;00m \u001b[39mdecode\u001b[39m(\u001b[39mself\u001b[39m, s, _w\u001b[39m=\u001b[39mWHITESPACE\u001b[39m.\u001b[39mmatch):\n\u001b[0;32m    <a href='file:///c%3A/Users/Jiayi/anaconda3/envs/fproject/lib/json/decoder.py?line=332'>333</a>\u001b[0m     \u001b[39m\"\"\"Return the Python representation of ``s`` (a ``str`` instance\u001b[39;00m\n\u001b[0;32m    <a href='file:///c%3A/Users/Jiayi/anaconda3/envs/fproject/lib/json/decoder.py?line=333'>334</a>\u001b[0m \u001b[39m    containing a JSON document).\u001b[39;00m\n\u001b[0;32m    <a href='file:///c%3A/Users/Jiayi/anaconda3/envs/fproject/lib/json/decoder.py?line=334'>335</a>\u001b[0m \n\u001b[0;32m    <a href='file:///c%3A/Users/Jiayi/anaconda3/envs/fproject/lib/json/decoder.py?line=335'>336</a>\u001b[0m \u001b[39m    \"\"\"\u001b[39;00m\n\u001b[1;32m--> <a href='file:///c%3A/Users/Jiayi/anaconda3/envs/fproject/lib/json/decoder.py?line=336'>337</a>\u001b[0m     obj, end \u001b[39m=\u001b[39m \u001b[39mself\u001b[39;49m\u001b[39m.\u001b[39;49mraw_decode(s, idx\u001b[39m=\u001b[39;49m_w(s, \u001b[39m0\u001b[39;49m)\u001b[39m.\u001b[39;49mend())\n\u001b[0;32m    <a href='file:///c%3A/Users/Jiayi/anaconda3/envs/fproject/lib/json/decoder.py?line=337'>338</a>\u001b[0m     end \u001b[39m=\u001b[39m _w(s, end)\u001b[39m.\u001b[39mend()\n\u001b[0;32m    <a href='file:///c%3A/Users/Jiayi/anaconda3/envs/fproject/lib/json/decoder.py?line=338'>339</a>\u001b[0m     \u001b[39mif\u001b[39;00m end \u001b[39m!=\u001b[39m \u001b[39mlen\u001b[39m(s):\n",
      "File \u001b[1;32mc:\\Users\\Jiayi\\anaconda3\\envs\\fproject\\lib\\json\\decoder.py:355\u001b[0m, in \u001b[0;36mJSONDecoder.raw_decode\u001b[1;34m(self, s, idx)\u001b[0m\n\u001b[0;32m    <a href='file:///c%3A/Users/Jiayi/anaconda3/envs/fproject/lib/json/decoder.py?line=352'>353</a>\u001b[0m     obj, end \u001b[39m=\u001b[39m \u001b[39mself\u001b[39m\u001b[39m.\u001b[39mscan_once(s, idx)\n\u001b[0;32m    <a href='file:///c%3A/Users/Jiayi/anaconda3/envs/fproject/lib/json/decoder.py?line=353'>354</a>\u001b[0m \u001b[39mexcept\u001b[39;00m \u001b[39mStopIteration\u001b[39;00m \u001b[39mas\u001b[39;00m err:\n\u001b[1;32m--> <a href='file:///c%3A/Users/Jiayi/anaconda3/envs/fproject/lib/json/decoder.py?line=354'>355</a>\u001b[0m     \u001b[39mraise\u001b[39;00m JSONDecodeError(\u001b[39m\"\u001b[39m\u001b[39mExpecting value\u001b[39m\u001b[39m\"\u001b[39m, s, err\u001b[39m.\u001b[39mvalue) \u001b[39mfrom\u001b[39;00m \u001b[39mNone\u001b[39m\n\u001b[0;32m    <a href='file:///c%3A/Users/Jiayi/anaconda3/envs/fproject/lib/json/decoder.py?line=355'>356</a>\u001b[0m \u001b[39mreturn\u001b[39;00m obj, end\n",
      "\u001b[1;31mJSONDecodeError\u001b[0m: Expecting value: line 3 column 13 (char 36)"
     ]
    }
   ],
   "source": [
    "with open (\"exampleuser.json\") as f:\n",
    "    exampleuser = json.load(f)"
   ]
  },
  {
   "cell_type": "code",
   "execution_count": 7,
   "metadata": {},
   "outputs": [
    {
     "name": "stdout",
     "output_type": "stream",
     "text": [
      "Error parsing LINE2: 'Mandatory variable not provided: NVIB'\n"
     ]
    },
    {
     "ename": "KeyError",
     "evalue": "'Mandatory variable not provided: NVIB'",
     "output_type": "error",
     "traceback": [
      "\u001b[1;31m---------------------------------------------------------------------------\u001b[0m",
      "\u001b[1;31mKeyError\u001b[0m                                  Traceback (most recent call last)",
      "\u001b[1;32mc:\\MyFile\\Project\\code\\Formatting\\generalparser.ipynb Cell 9'\u001b[0m in \u001b[0;36m<cell line: 2>\u001b[1;34m()\u001b[0m\n\u001b[0;32m      <a href='vscode-notebook-cell:/c%3A/MyFile/Project/code/Formatting/generalparser.ipynb#ch0000008?line=0'>1</a>\u001b[0m testparser \u001b[39m=\u001b[39m GeneralParser(\u001b[39m\"\u001b[39m\u001b[39mconfig/example_config.json\u001b[39m\u001b[39m\"\u001b[39m)\n\u001b[1;32m----> <a href='vscode-notebook-cell:/c%3A/MyFile/Project/code/Formatting/generalparser.ipynb#ch0000008?line=1'>2</a>\u001b[0m testparser\u001b[39m.\u001b[39;49mwrite(rot_example_missing,\u001b[39m\"\u001b[39;49m\u001b[39moutput/test_general_rot.job\u001b[39;49m\u001b[39m\"\u001b[39;49m)\n",
      "\u001b[1;32mc:\\MyFile\\Project\\code\\Formatting\\generalparser.ipynb Cell 6'\u001b[0m in \u001b[0;36mGeneralParser.write\u001b[1;34m(self, input, output)\u001b[0m\n\u001b[0;32m     <a href='vscode-notebook-cell:/c%3A/MyFile/Project/code/Formatting/generalparser.ipynb#ch0000005?line=73'>74</a>\u001b[0m     \u001b[39mself\u001b[39m\u001b[39m.\u001b[39m__parPRT(\u001b[39mself\u001b[39m\u001b[39m.\u001b[39mconfig[line],\u001b[39minput\u001b[39m,f)\n\u001b[0;32m     <a href='vscode-notebook-cell:/c%3A/MyFile/Project/code/Formatting/generalparser.ipynb#ch0000005?line=74'>75</a>\u001b[0m \u001b[39melif\u001b[39;00m \u001b[39mself\u001b[39m\u001b[39m.\u001b[39mconfig[line][\u001b[39m\"\u001b[39m\u001b[39mtype\u001b[39m\u001b[39m\"\u001b[39m] \u001b[39m==\u001b[39m \u001b[39m\"\u001b[39m\u001b[39mVAL\u001b[39m\u001b[39m\"\u001b[39m:\n\u001b[1;32m---> <a href='vscode-notebook-cell:/c%3A/MyFile/Project/code/Formatting/generalparser.ipynb#ch0000005?line=75'>76</a>\u001b[0m     \u001b[39mself\u001b[39;49m\u001b[39m.\u001b[39;49m__parVAL(\u001b[39mself\u001b[39;49m\u001b[39m.\u001b[39;49mconfig[line],\u001b[39minput\u001b[39;49m,f)\n\u001b[0;32m     <a href='vscode-notebook-cell:/c%3A/MyFile/Project/code/Formatting/generalparser.ipynb#ch0000005?line=76'>77</a>\u001b[0m \u001b[39melif\u001b[39;00m \u001b[39mself\u001b[39m\u001b[39m.\u001b[39mconfig[line][\u001b[39m\"\u001b[39m\u001b[39mtype\u001b[39m\u001b[39m\"\u001b[39m] \u001b[39m==\u001b[39m \u001b[39m\"\u001b[39m\u001b[39mTITLE\u001b[39m\u001b[39m\"\u001b[39m:\n\u001b[0;32m     <a href='vscode-notebook-cell:/c%3A/MyFile/Project/code/Formatting/generalparser.ipynb#ch0000005?line=77'>78</a>\u001b[0m     \u001b[39mself\u001b[39m\u001b[39m.\u001b[39m__parTITLE(\u001b[39mself\u001b[39m\u001b[39m.\u001b[39mconfig[line],\u001b[39minput\u001b[39m,f)\n",
      "\u001b[1;32mc:\\MyFile\\Project\\code\\Formatting\\generalparser.ipynb Cell 6'\u001b[0m in \u001b[0;36mGeneralParser.__parVAL\u001b[1;34m(self, configsub, data, filestream)\u001b[0m\n\u001b[0;32m     <a href='vscode-notebook-cell:/c%3A/MyFile/Project/code/Formatting/generalparser.ipynb#ch0000005?line=38'>39</a>\u001b[0m     countval\u001b[39m+\u001b[39m\u001b[39m=\u001b[39m\u001b[39m1\u001b[39m\n\u001b[0;32m     <a href='vscode-notebook-cell:/c%3A/MyFile/Project/code/Formatting/generalparser.ipynb#ch0000005?line=39'>40</a>\u001b[0m \u001b[39melif\u001b[39;00m countval\u001b[39m<\u001b[39mconfigsub[\u001b[39m\"\u001b[39m\u001b[39mminval\u001b[39m\u001b[39m\"\u001b[39m]:\n\u001b[1;32m---> <a href='vscode-notebook-cell:/c%3A/MyFile/Project/code/Formatting/generalparser.ipynb#ch0000005?line=40'>41</a>\u001b[0m     \u001b[39mraise\u001b[39;00m \u001b[39mKeyError\u001b[39;00m(\u001b[39m\"\u001b[39m\u001b[39mMandatory variable not provided: \u001b[39m\u001b[39m{}\u001b[39;00m\u001b[39m\"\u001b[39m\u001b[39m.\u001b[39mformat(var))\n\u001b[0;32m     <a href='vscode-notebook-cell:/c%3A/MyFile/Project/code/Formatting/generalparser.ipynb#ch0000005?line=41'>42</a>\u001b[0m \u001b[39melse\u001b[39;00m:\n\u001b[0;32m     <a href='vscode-notebook-cell:/c%3A/MyFile/Project/code/Formatting/generalparser.ipynb#ch0000005?line=42'>43</a>\u001b[0m     \u001b[39mbreak\u001b[39;00m\n",
      "\u001b[1;31mKeyError\u001b[0m: 'Mandatory variable not provided: NVIB'"
     ]
    }
   ],
   "source": [
    "testparser = GeneralParser(\"config/example_config.json\")\n",
    "testparser.write(rot_example_missing,\"output/test_general_rot.job\")"
   ]
  },
  {
   "cell_type": "markdown",
   "metadata": {},
   "source": [
    "---"
   ]
  },
  {
   "cell_type": "code",
   "execution_count": 10,
   "metadata": {},
   "outputs": [],
   "source": [
    "dvrparalist={\n",
    "    \"ZROT\":True,\"ZTRAN\":True,\"ZLIN\":True,\"ZTHETA\":False,\"ZR2R1\":False,\"ZP1D\":False,\"ZP2D\":False,\"ZEMBED\":False,\"ZPFUN\":True,\n",
    "    \"NCOORD\":1,\n",
    "    \"NPNT2\":30,\"JROT\":0,\"NEVAL\":40,\"NALF\":45,\"MAX2D\":1000,\"MAX3D\":1500,\"IDIA\":1,\"KMIN\":2,\"NPNT1\":16,\n",
    "    \"TITLE\":\"HCN: J=2 calculation\",\n",
    "    \"XMASS(1)\":1.007825035,\"XMASS(2)\":12.0,\"XMASS(3)\":14.003074002,\n",
    "    \"XMASSR(1)\":1.007825035,\"XMASSR(2)\":12.0,\"XMASSR(3)\":14.003074002,\n",
    "    \"EMAX1\":45000,\n",
    "    \"RE1\":2.3,\"DISS1\":29.0,\"WE1\":0.0105,\n",
    "    \"RE2\":3.2,\"DISS2\":5.0,\"WE2\":0.004\n",
    "}"
   ]
  },
  {
   "cell_type": "code",
   "execution_count": 11,
   "metadata": {},
   "outputs": [],
   "source": [
    "testparser = GeneralParser(\"config/dvr3djz.json\")\n",
    "testparser.write(dvrparalist,\"output/test_general_dvr.job\")"
   ]
  },
  {
   "cell_type": "code",
   "execution_count": null,
   "metadata": {},
   "outputs": [],
   "source": []
  }
 ],
 "metadata": {
  "interpreter": {
   "hash": "98b47d074a431d17181c321ad94f2955c6daf2894d339213ce58369930ebc673"
  },
  "kernelspec": {
   "display_name": "Python 3.8.13 ('fproject')",
   "language": "python",
   "name": "python3"
  },
  "language_info": {
   "codemirror_mode": {
    "name": "ipython",
    "version": 3
   },
   "file_extension": ".py",
   "mimetype": "text/x-python",
   "name": "python",
   "nbconvert_exporter": "python",
   "pygments_lexer": "ipython3",
   "version": "3.8.13"
  },
  "orig_nbformat": 4
 },
 "nbformat": 4,
 "nbformat_minor": 2
}
